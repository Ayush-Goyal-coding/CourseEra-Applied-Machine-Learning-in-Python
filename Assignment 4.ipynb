{
 "cells": [
  {
   "cell_type": "markdown",
   "metadata": {},
   "source": [
    "---\n",
    "\n",
    "_You are currently looking at **version 1.0** of this notebook. To download notebooks and datafiles, as well as get help on Jupyter notebooks in the Coursera platform, visit the [Jupyter Notebook FAQ](https://www.coursera.org/learn/python-machine-learning/resources/bANLa) course resource._\n",
    "\n",
    "---"
   ]
  },
  {
   "cell_type": "markdown",
   "metadata": {},
   "source": [
    "## Understanding and Predicting Property Maintenance Fines\n",
    "\n",
    "This is based on a data challenge from the Michigan Data Science Team ([MDST](http://midas.umich.edu/mdst/)). \n",
    "\n",
    "The Michigan Data Science Team ([MDST](http://midas.umich.edu/mdst/)) and the Michigan Student Symposium for Interdisciplinary Statistical Sciences ([MSSISS](https://sites.lsa.umich.edu/mssiss/)) have partnered with the City of Detroit to help solve one of the most pressing problems facing Detroit - blight. [Blight violations](http://www.detroitmi.gov/How-Do-I/Report/Blight-Complaint-FAQs) are issued by the city to individuals who allow their properties to remain in a deteriorated condition. Every year, the city of Detroit issues millions of dollars in fines to residents and every year, many of these fines remain unpaid. Enforcing unpaid blight fines is a costly and tedious process, so the city wants to know: how can we increase blight ticket compliance?\n",
    "\n",
    "The first step in answering this question is understanding when and why a resident might fail to comply with a blight ticket. This is where predictive modeling comes in. For this assignment, your task is to predict whether a given blight ticket will be paid on time.\n",
    "\n",
    "All data for this assignment has been provided to us through the [Detroit Open Data Portal](https://data.detroitmi.gov/). **Only the data already included in your Coursera directory can be used for training the model for this assignment.** Nonetheless, we encourage you to look into data from other Detroit datasets to help inform feature creation and model selection. We recommend taking a look at the following related datasets:\n",
    "\n",
    "* [Building Permits](https://data.detroitmi.gov/Property-Parcels/Building-Permits/xw2a-a7tf)\n",
    "* [Trades Permits](https://data.detroitmi.gov/Property-Parcels/Trades-Permits/635b-dsgv)\n",
    "* [Improve Detroit: Submitted Issues](https://data.detroitmi.gov/Government/Improve-Detroit-Submitted-Issues/fwz3-w3yn)\n",
    "* [DPD: Citizen Complaints](https://data.detroitmi.gov/Public-Safety/DPD-Citizen-Complaints-2016/kahe-efs3)\n",
    "* [Parcel Map](https://data.detroitmi.gov/Property-Parcels/Parcel-Map/fxkw-udwf)\n",
    "\n",
    "___\n",
    "\n",
    "We provide you with two data files for use in training and validating your models: train.csv and test.csv. Each row in these two files corresponds to a single blight ticket, and includes information about when, why, and to whom each ticket was issued. The target variable is compliance, which is True if the ticket was paid early, on time, or within one month of the hearing data, False if the ticket was paid after the hearing date or not at all, and Null if the violator was found not responsible. Compliance, as well as a handful of other variables that will not be available at test-time, are only included in train.csv.\n",
    "\n",
    "Note: All tickets where the violators were found not responsible are not considered during evaluation. They are included in the training set as an additional source of data for visualization, and to enable unsupervised and semi-supervised approaches. However, they are not included in the test set.\n",
    "\n",
    "<br>\n",
    "\n",
    "**File descriptions** (Use only this data for training your model!)\n",
    "\n",
    "    train.csv - the training set (all tickets issued 2004-2011)\n",
    "    test.csv - the test set (all tickets issued 2012-2016)\n",
    "    addresses.csv & latlons.csv - mapping from ticket id to addresses, and from addresses to lat/lon coordinates. \n",
    "     Note: misspelled addresses may be incorrectly geolocated.\n",
    "\n",
    "<br>\n",
    "\n",
    "**Data fields**\n",
    "\n",
    "train.csv & test.csv\n",
    "\n",
    "    ticket_id - unique identifier for tickets\n",
    "    agency_name - Agency that issued the ticket\n",
    "    inspector_name - Name of inspector that issued the ticket\n",
    "    violator_name - Name of the person/organization that the ticket was issued to\n",
    "    violation_street_number, violation_street_name, violation_zip_code - Address where the violation occurred\n",
    "    mailing_address_str_number, mailing_address_str_name, city, state, zip_code, non_us_str_code, country - Mailing address of the violator\n",
    "    ticket_issued_date - Date and time the ticket was issued\n",
    "    hearing_date - Date and time the violator's hearing was scheduled\n",
    "    violation_code, violation_description - Type of violation\n",
    "    disposition - Judgment and judgement type\n",
    "    fine_amount - Violation fine amount, excluding fees\n",
    "    admin_fee - $20 fee assigned to responsible judgments\n",
    "state_fee - $10 fee assigned to responsible judgments\n",
    "    late_fee - 10% fee assigned to responsible judgments\n",
    "    discount_amount - discount applied, if any\n",
    "    clean_up_cost - DPW clean-up or graffiti removal cost\n",
    "    judgment_amount - Sum of all fines and fees\n",
    "    grafitti_status - Flag for graffiti violations\n",
    "    \n",
    "train.csv only\n",
    "\n",
    "    payment_amount - Amount paid, if any\n",
    "    payment_date - Date payment was made, if it was received\n",
    "    payment_status - Current payment status as of Feb 1 2017\n",
    "    balance_due - Fines and fees still owed\n",
    "    collection_status - Flag for payments in collections\n",
    "    compliance [target variable for prediction] \n",
    "     Null = Not responsible\n",
    "     0 = Responsible, non-compliant\n",
    "     1 = Responsible, compliant\n",
    "    compliance_detail - More information on why each ticket was marked compliant or non-compliant\n",
    "\n",
    "\n",
    "___\n",
    "\n",
    "## Evaluation\n",
    "\n",
    "Your predictions will be given as the probability that the corresponding blight ticket will be paid on time.\n",
    "\n",
    "The evaluation metric for this assignment is the Area Under the ROC Curve (AUC). \n",
    "\n",
    "Your grade will be based on the AUC score computed for your classifier. A model which with an AUROC of 0.7 passes this assignment, over 0.75 will recieve full points.\n",
    "___\n",
    "\n",
    "For this assignment, create a function that trains a model to predict blight ticket compliance in Detroit using `train.csv`. Using this model, return a series of length 61001 with the data being the probability that each corresponding ticket from `test.csv` will be paid, and the index being the ticket_id.\n",
    "\n",
    "Example:\n",
    "\n",
    "    ticket_id\n",
    "       284932    0.531842\n",
    "       285362    0.401958\n",
    "       285361    0.105928\n",
    "       285338    0.018572\n",
    "                 ...\n",
    "       376499    0.208567\n",
    "       376500    0.818759\n",
    "       369851    0.018528\n",
    "       Name: compliance, dtype: float32"
   ]
  },
  {
   "cell_type": "code",
   "execution_count": 1,
   "metadata": {
    "collapsed": true
   },
   "outputs": [],
   "source": [
    "import pandas as pd\n",
    "import numpy as np\n",
    "import seaborn as sns\n",
    "import matplotlib.pyplot as plt"
   ]
  },
  {
   "cell_type": "code",
   "execution_count": 2,
   "metadata": {
    "collapsed": true
   },
   "outputs": [],
   "source": [
    "testdata = pd.read_csv(\"test.csv\",encoding=\"cp1252\",parse_dates = ['ticket_issued_date', 'hearing_date'])"
   ]
  },
  {
   "cell_type": "code",
   "execution_count": 3,
   "metadata": {},
   "outputs": [
    {
     "name": "stderr",
     "output_type": "stream",
     "text": [
      "c:\\program files\\python35\\lib\\site-packages\\IPython\\core\\interactiveshell.py:2698: DtypeWarning: Columns (11,12,31) have mixed types. Specify dtype option on import or set low_memory=False.\n",
      "  interactivity=interactivity, compiler=compiler, result=result)\n"
     ]
    }
   ],
   "source": [
    "traindata = pd.read_csv('train.csv',encoding=\"cp1252\",parse_dates = ['ticket_issued_date', 'hearing_date'])"
   ]
  },
  {
   "cell_type": "code",
   "execution_count": 4,
   "metadata": {
    "collapsed": true
   },
   "outputs": [],
   "source": [
    "traindata.dropna(how = 'all',axis = 1,inplace = True)"
   ]
  },
  {
   "cell_type": "code",
   "execution_count": 5,
   "metadata": {},
   "outputs": [
    {
     "data": {
      "text/plain": [
       "66080864"
      ]
     },
     "execution_count": 5,
     "metadata": {},
     "output_type": "execute_result"
    }
   ],
   "source": [
    "\n",
    "traindata.memory_usage().sum()"
   ]
  },
  {
   "cell_type": "markdown",
   "metadata": {},
   "source": [
    "It can be made more efficient by reducing un-necessary memory usage.This can be done grpouping similar things into categories"
   ]
  },
  {
   "cell_type": "code",
   "execution_count": 6,
   "metadata": {
    "collapsed": true
   },
   "outputs": [],
   "source": [
    "# reduce memory usage by casting\n",
    "for i in range(len(traindata.columns)):\n",
    "    if len(traindata[traindata.columns[i]].unique()) < 250:\n",
    "        traindata[traindata.columns[i]] = traindata[traindata.columns[i]] .astype('category')\n",
    "        "
   ]
  },
  {
   "cell_type": "code",
   "execution_count": 7,
   "metadata": {},
   "outputs": [
    {
     "data": {
      "text/plain": [
       "33321338"
      ]
     },
     "execution_count": 7,
     "metadata": {},
     "output_type": "execute_result"
    }
   ],
   "source": [
    "traindata.memory_usage().sum()"
   ]
  },
  {
   "cell_type": "markdown",
   "metadata": {},
   "source": [
    "More than half memory is used saved!!\n",
    "\n",
    "Now lets drop all things with Null values in it"
   ]
  },
  {
   "cell_type": "code",
   "execution_count": 8,
   "metadata": {
    "collapsed": true
   },
   "outputs": [],
   "source": [
    "#drop all with nan\n",
    "traindata = traindata.dropna(axis = 1,how  = 'all')\n",
    "traindata = traindata.dropna(axis = 0,how  = 'all')"
   ]
  },
  {
   "cell_type": "markdown",
   "metadata": {},
   "source": [
    "We can see that many fields have many missing datas so let's get rid of columns  with more than 30 % missing data"
   ]
  },
  {
   "cell_type": "code",
   "execution_count": 9,
   "metadata": {},
   "outputs": [
    {
     "data": {
      "text/html": [
       "<div>\n",
       "<style>\n",
       "    .dataframe thead tr:only-child th {\n",
       "        text-align: right;\n",
       "    }\n",
       "\n",
       "    .dataframe thead th {\n",
       "        text-align: left;\n",
       "    }\n",
       "\n",
       "    .dataframe tbody tr th {\n",
       "        vertical-align: top;\n",
       "    }\n",
       "</style>\n",
       "<table border=\"1\" class=\"dataframe\">\n",
       "  <thead>\n",
       "    <tr style=\"text-align: right;\">\n",
       "      <th></th>\n",
       "      <th>Total</th>\n",
       "      <th>Percent</th>\n",
       "    </tr>\n",
       "  </thead>\n",
       "  <tbody>\n",
       "    <tr>\n",
       "      <th>grafitti_status</th>\n",
       "      <td>250305</td>\n",
       "      <td>0.999996</td>\n",
       "    </tr>\n",
       "    <tr>\n",
       "      <th>non_us_str_code</th>\n",
       "      <td>250303</td>\n",
       "      <td>0.999988</td>\n",
       "    </tr>\n",
       "    <tr>\n",
       "      <th>collection_status</th>\n",
       "      <td>213409</td>\n",
       "      <td>0.852592</td>\n",
       "    </tr>\n",
       "    <tr>\n",
       "      <th>payment_date</th>\n",
       "      <td>209193</td>\n",
       "      <td>0.835749</td>\n",
       "    </tr>\n",
       "    <tr>\n",
       "      <th>compliance</th>\n",
       "      <td>90426</td>\n",
       "      <td>0.361262</td>\n",
       "    </tr>\n",
       "    <tr>\n",
       "      <th>hearing_date</th>\n",
       "      <td>12491</td>\n",
       "      <td>0.049903</td>\n",
       "    </tr>\n",
       "    <tr>\n",
       "      <th>mailing_address_str_number</th>\n",
       "      <td>3602</td>\n",
       "      <td>0.014390</td>\n",
       "    </tr>\n",
       "    <tr>\n",
       "      <th>state</th>\n",
       "      <td>93</td>\n",
       "      <td>0.000372</td>\n",
       "    </tr>\n",
       "    <tr>\n",
       "      <th>violator_name</th>\n",
       "      <td>34</td>\n",
       "      <td>0.000136</td>\n",
       "    </tr>\n",
       "    <tr>\n",
       "      <th>mailing_address_str_name</th>\n",
       "      <td>4</td>\n",
       "      <td>0.000016</td>\n",
       "    </tr>\n",
       "  </tbody>\n",
       "</table>\n",
       "</div>"
      ],
      "text/plain": [
       "                             Total   Percent\n",
       "grafitti_status             250305  0.999996\n",
       "non_us_str_code             250303  0.999988\n",
       "collection_status           213409  0.852592\n",
       "payment_date                209193  0.835749\n",
       "compliance                   90426  0.361262\n",
       "hearing_date                 12491  0.049903\n",
       "mailing_address_str_number    3602  0.014390\n",
       "state                           93  0.000372\n",
       "violator_name                   34  0.000136\n",
       "mailing_address_str_name         4  0.000016"
      ]
     },
     "execution_count": 9,
     "metadata": {},
     "output_type": "execute_result"
    }
   ],
   "source": [
    "#missing data handle\n",
    "ttlnull = traindata.isnull().sum().sort_values(ascending = False)\n",
    "per = (traindata.isnull().sum()/traindata.isnull().count()).sort_values(ascending = False)\n",
    "missing_data = pd.concat([ttlnull, per], axis=1, keys = ['Total', 'Percent'])\n",
    "missing_data.head(10)"
   ]
  },
  {
   "cell_type": "code",
   "execution_count": 10,
   "metadata": {},
   "outputs": [
    {
     "data": {
      "text/plain": [
       "Index(['grafitti_status', 'non_us_str_code', 'collection_status',\n",
       "       'payment_date'],\n",
       "      dtype='object')"
      ]
     },
     "execution_count": 10,
     "metadata": {},
     "output_type": "execute_result"
    }
   ],
   "source": [
    "\n",
    "traindata.drop(missing_data[missing_data['Percent']>0.5].index,axis = 1,inplace = True)\n",
    "#drop same columns from test data too\n",
    "missing_data[missing_data['Percent']>0.5].index"
   ]
  },
  {
   "cell_type": "markdown",
   "metadata": {},
   "source": [
    "Above columns are worthless as more than 50% of time they are NaN so they are not good for predicting\n",
    "\n",
    "Now lets delete the columns which have all values same"
   ]
  },
  {
   "cell_type": "code",
   "execution_count": 11,
   "metadata": {},
   "outputs": [
    {
     "name": "stdout",
     "output_type": "stream",
     "text": [
      "clean_up_cost\n"
     ]
    }
   ],
   "source": [
    "#remove all columns of equal values...\n",
    "\n",
    "length = len(traindata.columns)\n",
    "for i in range (length):\n",
    "    if len(traindata[traindata.columns[i]].unique()) == 1:\n",
    "         print(traindata.columns[i])\n",
    "#         \n",
    "#         length = length -1\n"
   ]
  },
  {
   "cell_type": "markdown",
   "metadata": {},
   "source": [
    "Only 'clean_up_cost' has all the values same (i.e = 0) so it is also independent of our target variable as "
   ]
  },
  {
   "cell_type": "code",
   "execution_count": 12,
   "metadata": {
    "collapsed": true
   },
   "outputs": [],
   "source": [
    "traindata.drop(labels = 'clean_up_cost' ,axis = 1,inplace = True)\n",
    "testdata.drop(labels = 'clean_up_cost' ,axis = 1,inplace = True)\n",
    "\n"
   ]
  },
  {
   "cell_type": "markdown",
   "metadata": {},
   "source": [
    "Let's see how many more null columns are there"
   ]
  },
  {
   "cell_type": "code",
   "execution_count": 13,
   "metadata": {},
   "outputs": [
    {
     "data": {
      "text/plain": [
       "ticket_id                         0\n",
       "agency_name                       0\n",
       "inspector_name                    0\n",
       "violator_name                    34\n",
       "violation_street_number           0\n",
       "violation_street_name             0\n",
       "mailing_address_str_number     3602\n",
       "mailing_address_str_name          4\n",
       "city                              0\n",
       "state                            93\n",
       "zip_code                          1\n",
       "country                           0\n",
       "ticket_issued_date                0\n",
       "hearing_date                  12491\n",
       "violation_code                    0\n",
       "violation_description             0\n",
       "disposition                       0\n",
       "fine_amount                       1\n",
       "admin_fee                         0\n",
       "state_fee                         0\n",
       "late_fee                          0\n",
       "discount_amount                   0\n",
       "judgment_amount                   0\n",
       "payment_amount                    0\n",
       "balance_due                       0\n",
       "payment_status                    0\n",
       "compliance_detail                 0\n",
       "compliance                    90426\n",
       "dtype: int64"
      ]
     },
     "execution_count": 13,
     "metadata": {},
     "output_type": "execute_result"
    }
   ],
   "source": [
    "traindata.isnull().sum()"
   ]
  },
  {
   "cell_type": "markdown",
   "metadata": {
    "collapsed": true
   },
   "source": [
    "street number , street name can be null as people have different format each time but are they relevant??"
   ]
  },
  {
   "cell_type": "code",
   "execution_count": 14,
   "metadata": {
    "collapsed": true
   },
   "outputs": [],
   "source": [
    "address = pd.read_csv('addresses.csv')\n",
    "latlons = pd.read_csv('latlons.csv')"
   ]
  },
  {
   "cell_type": "code",
   "execution_count": 15,
   "metadata": {},
   "outputs": [
    {
     "data": {
      "text/html": [
       "<div>\n",
       "<style>\n",
       "    .dataframe thead tr:only-child th {\n",
       "        text-align: right;\n",
       "    }\n",
       "\n",
       "    .dataframe thead th {\n",
       "        text-align: left;\n",
       "    }\n",
       "\n",
       "    .dataframe tbody tr th {\n",
       "        vertical-align: top;\n",
       "    }\n",
       "</style>\n",
       "<table border=\"1\" class=\"dataframe\">\n",
       "  <thead>\n",
       "    <tr style=\"text-align: right;\">\n",
       "      <th></th>\n",
       "      <th>ticket_id</th>\n",
       "      <th>lat</th>\n",
       "      <th>lon</th>\n",
       "    </tr>\n",
       "    <tr>\n",
       "      <th>address</th>\n",
       "      <th></th>\n",
       "      <th></th>\n",
       "      <th></th>\n",
       "    </tr>\n",
       "  </thead>\n",
       "  <tbody>\n",
       "    <tr>\n",
       "      <th>-11064 gratiot, Detroit MI</th>\n",
       "      <td>328722</td>\n",
       "      <td>42.406935</td>\n",
       "      <td>-82.995599</td>\n",
       "    </tr>\n",
       "    <tr>\n",
       "      <th>-11871 wilfred, Detroit MI</th>\n",
       "      <td>350971</td>\n",
       "      <td>42.411288</td>\n",
       "      <td>-82.993674</td>\n",
       "    </tr>\n",
       "    <tr>\n",
       "      <th>-15126 harper, Detroit MI</th>\n",
       "      <td>344821</td>\n",
       "      <td>42.406402</td>\n",
       "      <td>-82.957525</td>\n",
       "    </tr>\n",
       "    <tr>\n",
       "      <th>0 10th st, Detroit MI</th>\n",
       "      <td>24928</td>\n",
       "      <td>42.325689</td>\n",
       "      <td>-83.064330</td>\n",
       "    </tr>\n",
       "    <tr>\n",
       "      <th>0 10th st, Detroit MI</th>\n",
       "      <td>71887</td>\n",
       "      <td>42.325689</td>\n",
       "      <td>-83.064330</td>\n",
       "    </tr>\n",
       "  </tbody>\n",
       "</table>\n",
       "</div>"
      ],
      "text/plain": [
       "                            ticket_id        lat        lon\n",
       "address                                                    \n",
       "-11064 gratiot, Detroit MI     328722  42.406935 -82.995599\n",
       "-11871 wilfred, Detroit MI     350971  42.411288 -82.993674\n",
       "-15126 harper, Detroit MI      344821  42.406402 -82.957525\n",
       "0 10th st, Detroit MI           24928  42.325689 -83.064330\n",
       "0 10th st, Detroit MI           71887  42.325689 -83.064330"
      ]
     },
     "execution_count": 15,
     "metadata": {},
     "output_type": "execute_result"
    }
   ],
   "source": [
    "address = address.set_index('address').join(latlons.set_index('address'), how='left')\n",
    "address.head()"
   ]
  },
  {
   "cell_type": "code",
   "execution_count": 16,
   "metadata": {
    "collapsed": true
   },
   "outputs": [],
   "source": [
    "traindata = traindata.set_index('ticket_id').join(address.set_index('ticket_id'))\n",
    "testdata = testdata.set_index('ticket_id').join(address.set_index('ticket_id'))"
   ]
  },
  {
   "cell_type": "code",
   "execution_count": 17,
   "metadata": {},
   "outputs": [
    {
     "data": {
      "text/plain": [
       "Index(['agency_name', 'inspector_name', 'violator_name',\n",
       "       'violation_street_number', 'violation_street_name',\n",
       "       'mailing_address_str_number', 'mailing_address_str_name', 'city',\n",
       "       'state', 'zip_code', 'country', 'ticket_issued_date', 'hearing_date',\n",
       "       'violation_code', 'violation_description', 'disposition', 'fine_amount',\n",
       "       'admin_fee', 'state_fee', 'late_fee', 'discount_amount',\n",
       "       'judgment_amount', 'payment_amount', 'balance_due', 'payment_status',\n",
       "       'compliance_detail', 'compliance', 'lat', 'lon'],\n",
       "      dtype='object')"
      ]
     },
     "execution_count": 17,
     "metadata": {},
     "output_type": "execute_result"
    }
   ],
   "source": [
    "traindata.columns"
   ]
  },
  {
   "cell_type": "markdown",
   "metadata": {
    "collapsed": true
   },
   "source": [
    "Now List of Items I think are irrevant..... As all this info should be covered in lan and log are below"
   ]
  },
  {
   "cell_type": "code",
   "execution_count": 18,
   "metadata": {
    "collapsed": true
   },
   "outputs": [],
   "source": [
    "list_to_remove = [ 'violator_name',\n",
    "       'violation_street_number', 'violation_street_name',\n",
    "       'mailing_address_str_number', 'mailing_address_str_name', 'city',\n",
    "       'state', 'zip_code', 'country']"
   ]
  },
  {
   "cell_type": "code",
   "execution_count": 19,
   "metadata": {
    "collapsed": true
   },
   "outputs": [],
   "source": [
    "traindata.drop(list_to_remove,axis = 1,inplace = True)\n",
    "testdata.drop(list_to_remove,axis = 1,inplace = True)"
   ]
  },
  {
   "cell_type": "code",
   "execution_count": 20,
   "metadata": {},
   "outputs": [
    {
     "data": {
      "text/html": [
       "<div>\n",
       "<style>\n",
       "    .dataframe thead tr:only-child th {\n",
       "        text-align: right;\n",
       "    }\n",
       "\n",
       "    .dataframe thead th {\n",
       "        text-align: left;\n",
       "    }\n",
       "\n",
       "    .dataframe tbody tr th {\n",
       "        vertical-align: top;\n",
       "    }\n",
       "</style>\n",
       "<table border=\"1\" class=\"dataframe\">\n",
       "  <thead>\n",
       "    <tr style=\"text-align: right;\">\n",
       "      <th></th>\n",
       "      <th>agency_name</th>\n",
       "      <th>inspector_name</th>\n",
       "      <th>violation_zip_code</th>\n",
       "      <th>non_us_str_code</th>\n",
       "      <th>ticket_issued_date</th>\n",
       "      <th>hearing_date</th>\n",
       "      <th>violation_code</th>\n",
       "      <th>violation_description</th>\n",
       "      <th>disposition</th>\n",
       "      <th>fine_amount</th>\n",
       "      <th>admin_fee</th>\n",
       "      <th>state_fee</th>\n",
       "      <th>late_fee</th>\n",
       "      <th>discount_amount</th>\n",
       "      <th>judgment_amount</th>\n",
       "      <th>grafitti_status</th>\n",
       "      <th>lat</th>\n",
       "      <th>lon</th>\n",
       "    </tr>\n",
       "    <tr>\n",
       "      <th>ticket_id</th>\n",
       "      <th></th>\n",
       "      <th></th>\n",
       "      <th></th>\n",
       "      <th></th>\n",
       "      <th></th>\n",
       "      <th></th>\n",
       "      <th></th>\n",
       "      <th></th>\n",
       "      <th></th>\n",
       "      <th></th>\n",
       "      <th></th>\n",
       "      <th></th>\n",
       "      <th></th>\n",
       "      <th></th>\n",
       "      <th></th>\n",
       "      <th></th>\n",
       "      <th></th>\n",
       "      <th></th>\n",
       "    </tr>\n",
       "  </thead>\n",
       "  <tbody>\n",
       "    <tr>\n",
       "      <th>284932</th>\n",
       "      <td>Department of Public Works</td>\n",
       "      <td>Granberry, Aisha B</td>\n",
       "      <td>NaN</td>\n",
       "      <td>NaN</td>\n",
       "      <td>2012-01-04 14:00:00</td>\n",
       "      <td>2012-01-19 09:00:00</td>\n",
       "      <td>22-2-61</td>\n",
       "      <td>Failure to secure City or Private solid waste ...</td>\n",
       "      <td>Responsible by Default</td>\n",
       "      <td>200.0</td>\n",
       "      <td>20.0</td>\n",
       "      <td>10.0</td>\n",
       "      <td>20.0</td>\n",
       "      <td>0.0</td>\n",
       "      <td>250.0</td>\n",
       "      <td>NaN</td>\n",
       "      <td>42.407581</td>\n",
       "      <td>-82.986642</td>\n",
       "    </tr>\n",
       "    <tr>\n",
       "      <th>285362</th>\n",
       "      <td>Department of Public Works</td>\n",
       "      <td>Lusk, Gertrina</td>\n",
       "      <td>NaN</td>\n",
       "      <td>NaN</td>\n",
       "      <td>2012-01-05 09:50:00</td>\n",
       "      <td>2012-02-06 09:00:00</td>\n",
       "      <td>22-2-88(b)</td>\n",
       "      <td>Allowing bulk solid waste to lie or accumulate...</td>\n",
       "      <td>Responsible by Default</td>\n",
       "      <td>1000.0</td>\n",
       "      <td>20.0</td>\n",
       "      <td>10.0</td>\n",
       "      <td>100.0</td>\n",
       "      <td>0.0</td>\n",
       "      <td>1130.0</td>\n",
       "      <td>NaN</td>\n",
       "      <td>42.426239</td>\n",
       "      <td>-83.238259</td>\n",
       "    </tr>\n",
       "    <tr>\n",
       "      <th>285361</th>\n",
       "      <td>Department of Public Works</td>\n",
       "      <td>Lusk, Gertrina</td>\n",
       "      <td>NaN</td>\n",
       "      <td>NaN</td>\n",
       "      <td>2012-01-05 09:50:00</td>\n",
       "      <td>2012-02-06 09:00:00</td>\n",
       "      <td>22-2-43</td>\n",
       "      <td>Improper placement of Courville container betw...</td>\n",
       "      <td>Responsible by Default</td>\n",
       "      <td>100.0</td>\n",
       "      <td>20.0</td>\n",
       "      <td>10.0</td>\n",
       "      <td>10.0</td>\n",
       "      <td>0.0</td>\n",
       "      <td>140.0</td>\n",
       "      <td>NaN</td>\n",
       "      <td>42.426239</td>\n",
       "      <td>-83.238259</td>\n",
       "    </tr>\n",
       "  </tbody>\n",
       "</table>\n",
       "</div>"
      ],
      "text/plain": [
       "                          agency_name      inspector_name violation_zip_code  \\\n",
       "ticket_id                                                                      \n",
       "284932     Department of Public Works  Granberry, Aisha B                NaN   \n",
       "285362     Department of Public Works      Lusk, Gertrina                NaN   \n",
       "285361     Department of Public Works      Lusk, Gertrina                NaN   \n",
       "\n",
       "           non_us_str_code  ticket_issued_date        hearing_date  \\\n",
       "ticket_id                                                            \n",
       "284932                 NaN 2012-01-04 14:00:00 2012-01-19 09:00:00   \n",
       "285362                 NaN 2012-01-05 09:50:00 2012-02-06 09:00:00   \n",
       "285361                 NaN 2012-01-05 09:50:00 2012-02-06 09:00:00   \n",
       "\n",
       "          violation_code                              violation_description  \\\n",
       "ticket_id                                                                     \n",
       "284932           22-2-61  Failure to secure City or Private solid waste ...   \n",
       "285362        22-2-88(b)  Allowing bulk solid waste to lie or accumulate...   \n",
       "285361           22-2-43  Improper placement of Courville container betw...   \n",
       "\n",
       "                      disposition  fine_amount  admin_fee  state_fee  \\\n",
       "ticket_id                                                              \n",
       "284932     Responsible by Default        200.0       20.0       10.0   \n",
       "285362     Responsible by Default       1000.0       20.0       10.0   \n",
       "285361     Responsible by Default        100.0       20.0       10.0   \n",
       "\n",
       "           late_fee  discount_amount  judgment_amount grafitti_status  \\\n",
       "ticket_id                                                               \n",
       "284932         20.0              0.0            250.0             NaN   \n",
       "285362        100.0              0.0           1130.0             NaN   \n",
       "285361         10.0              0.0            140.0             NaN   \n",
       "\n",
       "                 lat        lon  \n",
       "ticket_id                        \n",
       "284932     42.407581 -82.986642  \n",
       "285362     42.426239 -83.238259  \n",
       "285361     42.426239 -83.238259  "
      ]
     },
     "execution_count": 20,
     "metadata": {},
     "output_type": "execute_result"
    }
   ],
   "source": [
    "testdata.head(3)"
   ]
  },
  {
   "cell_type": "markdown",
   "metadata": {},
   "source": [
    "Let's reduce more feature,we can just use Total amount to pay instead of below features "
   ]
  },
  {
   "cell_type": "code",
   "execution_count": 21,
   "metadata": {},
   "outputs": [],
   "source": [
    "traindata['Total_amount_to_pay'] = traindata['fine_amount']+ traindata['admin_fee']+traindata['state_fee']+traindata['late_fee']-traindata['discount_amount']\n",
    "testdata['Total_amount_to_pay'] = testdata['fine_amount']+ testdata['admin_fee']+testdata['state_fee']+testdata['late_fee']-testdata['discount_amount']"
   ]
  },
  {
   "cell_type": "code",
   "execution_count": 22,
   "metadata": {
    "collapsed": true
   },
   "outputs": [],
   "source": [
    "list_drop = ['fine_amount','admin_fee','state_fee','late_fee','discount_amount']\n",
    "traindata.drop(list_drop,axis = 1,inplace = True)\n",
    "testdata.drop(list_drop,axis = 1,inplace = True)"
   ]
  },
  {
   "cell_type": "code",
   "execution_count": 23,
   "metadata": {},
   "outputs": [
    {
     "data": {
      "text/plain": [
       "Index(['agency_name', 'inspector_name', 'ticket_issued_date', 'hearing_date',\n",
       "       'violation_code', 'violation_description', 'disposition',\n",
       "       'judgment_amount', 'payment_amount', 'balance_due', 'payment_status',\n",
       "       'compliance_detail', 'compliance', 'lat', 'lon', 'Total_amount_to_pay'],\n",
       "      dtype='object')"
      ]
     },
     "execution_count": 23,
     "metadata": {},
     "output_type": "execute_result"
    }
   ],
   "source": [
    "traindata.columns"
   ]
  },
  {
   "cell_type": "code",
   "execution_count": 24,
   "metadata": {},
   "outputs": [
    {
     "data": {
      "text/plain": [
       "Index(['agency_name', 'inspector_name', 'violation_zip_code',\n",
       "       'non_us_str_code', 'ticket_issued_date', 'hearing_date',\n",
       "       'violation_code', 'violation_description', 'disposition',\n",
       "       'judgment_amount', 'grafitti_status', 'lat', 'lon',\n",
       "       'Total_amount_to_pay'],\n",
       "      dtype='object')"
      ]
     },
     "execution_count": 24,
     "metadata": {},
     "output_type": "execute_result"
    }
   ],
   "source": [
    "testdata.columns"
   ]
  },
  {
   "cell_type": "markdown",
   "metadata": {},
   "source": [
    "Now lets fill NaN values of above calculated fields to train the model,As they are very less compared to original dataset we can \n",
    "drop them too,but dropping them from testSet isn't allowed so let's fill them"
   ]
  },
  {
   "cell_type": "code",
   "execution_count": 25,
   "metadata": {},
   "outputs": [
    {
     "data": {
      "text/plain": [
       "agency_name                  0\n",
       "inspector_name               0\n",
       "violation_zip_code       36977\n",
       "non_us_str_code          61001\n",
       "ticket_issued_date           0\n",
       "hearing_date              2197\n",
       "violation_code               0\n",
       "violation_description        0\n",
       "disposition                  0\n",
       "judgment_amount              0\n",
       "grafitti_status          58780\n",
       "lat                          0\n",
       "lon                          0\n",
       "Total_amount_to_pay          0\n",
       "dtype: int64"
      ]
     },
     "execution_count": 25,
     "metadata": {},
     "output_type": "execute_result"
    }
   ],
   "source": [
    "traindata.dropna(subset = ['lat','lon','Total_amount_to_pay'],inplace = True)\n",
    "testdata['lat'].fillna(testdata.lat.mean(),inplace = True)\n",
    "testdata['lon'].fillna(testdata.lon.mean(),inplace = True)\n",
    "testdata.isnull().sum()"
   ]
  },
  {
   "cell_type": "markdown",
   "metadata": {},
   "source": [
    "Now time_gap between dates is only needed so let's calculate that"
   ]
  },
  {
   "cell_type": "code",
   "execution_count": 26,
   "metadata": {},
   "outputs": [],
   "source": [
    "#traindata = traindata[~traindata['hearing_date'].isnull()]\n",
    "traindata['time_gap'] = traindata['hearing_date']-traindata['ticket_issued_date']\n",
    "traindata['time_gap'] = traindata['time_gap'].dt.days\n",
    "traindata['time_gap'].fillna(73,inplace = True)\n",
    "traindata.drop(['hearing_date','ticket_issued_date'],axis = 1,inplace = True)\n",
    "\n",
    "testdata['time_gap'] = testdata['hearing_date']-testdata['ticket_issued_date']\n",
    "testdata['time_gap'] = testdata['time_gap'].dt.days\n",
    "testdata['time_gap'].fillna(73,inplace = True)\n",
    "testdata.drop(['hearing_date','ticket_issued_date'],axis = 1,inplace = True)"
   ]
  },
  {
   "cell_type": "markdown",
   "metadata": {},
   "source": [
    "Now dropping features that aren't important and creating features from string categories"
   ]
  },
  {
   "cell_type": "code",
   "execution_count": 27,
   "metadata": {},
   "outputs": [],
   "source": [
    "traindata.drop(['violation_description','payment_amount','balance_due','payment_status','violation_code','compliance_detail','inspector_name'],axis = 1,inplace = True)\n",
    "\n",
    "string_features = ['disposition','agency_name']\n",
    "traindata =  pd.get_dummies(traindata,columns = string_features,drop_first = True)\n",
    "testdata =  pd.get_dummies(testdata,columns = string_features,drop_first = True)"
   ]
  },
  {
   "cell_type": "markdown",
   "metadata": {},
   "source": [
    "Taking only NON NaN values for prediction"
   ]
  },
  {
   "cell_type": "code",
   "execution_count": 28,
   "metadata": {
    "collapsed": true
   },
   "outputs": [],
   "source": [
    "traindata = traindata[(traindata['compliance'] == 0) | (traindata['compliance'] == 1)]"
   ]
  },
  {
   "cell_type": "code",
   "execution_count": 29,
   "metadata": {},
   "outputs": [
    {
     "data": {
      "text/html": [
       "<div>\n",
       "<style>\n",
       "    .dataframe thead tr:only-child th {\n",
       "        text-align: right;\n",
       "    }\n",
       "\n",
       "    .dataframe thead th {\n",
       "        text-align: left;\n",
       "    }\n",
       "\n",
       "    .dataframe tbody tr th {\n",
       "        vertical-align: top;\n",
       "    }\n",
       "</style>\n",
       "<table border=\"1\" class=\"dataframe\">\n",
       "  <thead>\n",
       "    <tr style=\"text-align: right;\">\n",
       "      <th></th>\n",
       "      <th>judgment_amount</th>\n",
       "      <th>compliance</th>\n",
       "      <th>lat</th>\n",
       "      <th>lon</th>\n",
       "      <th>Total_amount_to_pay</th>\n",
       "      <th>time_gap</th>\n",
       "      <th>disposition_Not responsible by Determination</th>\n",
       "      <th>disposition_Not responsible by Dismissal</th>\n",
       "      <th>disposition_PENDING JUDGMENT</th>\n",
       "      <th>disposition_Responsible (Fine Waived) by Deter</th>\n",
       "      <th>disposition_Responsible by Admission</th>\n",
       "      <th>disposition_Responsible by Default</th>\n",
       "      <th>disposition_Responsible by Determination</th>\n",
       "      <th>disposition_SET-ASIDE (PENDING JUDGMENT)</th>\n",
       "      <th>agency_name_Department of Public Works</th>\n",
       "      <th>agency_name_Detroit Police Department</th>\n",
       "      <th>agency_name_Health Department</th>\n",
       "      <th>agency_name_Neighborhood City Halls</th>\n",
       "    </tr>\n",
       "    <tr>\n",
       "      <th>ticket_id</th>\n",
       "      <th></th>\n",
       "      <th></th>\n",
       "      <th></th>\n",
       "      <th></th>\n",
       "      <th></th>\n",
       "      <th></th>\n",
       "      <th></th>\n",
       "      <th></th>\n",
       "      <th></th>\n",
       "      <th></th>\n",
       "      <th></th>\n",
       "      <th></th>\n",
       "      <th></th>\n",
       "      <th></th>\n",
       "      <th></th>\n",
       "      <th></th>\n",
       "      <th></th>\n",
       "      <th></th>\n",
       "    </tr>\n",
       "  </thead>\n",
       "  <tbody>\n",
       "    <tr>\n",
       "      <th>22056</th>\n",
       "      <td>305.0</td>\n",
       "      <td>0.0</td>\n",
       "      <td>42.390729</td>\n",
       "      <td>-83.124268</td>\n",
       "      <td>305.0</td>\n",
       "      <td>369.0</td>\n",
       "      <td>0</td>\n",
       "      <td>0</td>\n",
       "      <td>0</td>\n",
       "      <td>0</td>\n",
       "      <td>0</td>\n",
       "      <td>1</td>\n",
       "      <td>0</td>\n",
       "      <td>0</td>\n",
       "      <td>0</td>\n",
       "      <td>0</td>\n",
       "      <td>0</td>\n",
       "      <td>0</td>\n",
       "    </tr>\n",
       "    <tr>\n",
       "      <th>27586</th>\n",
       "      <td>855.0</td>\n",
       "      <td>1.0</td>\n",
       "      <td>42.326937</td>\n",
       "      <td>-83.135118</td>\n",
       "      <td>855.0</td>\n",
       "      <td>378.0</td>\n",
       "      <td>0</td>\n",
       "      <td>0</td>\n",
       "      <td>0</td>\n",
       "      <td>0</td>\n",
       "      <td>0</td>\n",
       "      <td>0</td>\n",
       "      <td>1</td>\n",
       "      <td>0</td>\n",
       "      <td>0</td>\n",
       "      <td>0</td>\n",
       "      <td>0</td>\n",
       "      <td>0</td>\n",
       "    </tr>\n",
       "    <tr>\n",
       "      <th>22046</th>\n",
       "      <td>305.0</td>\n",
       "      <td>0.0</td>\n",
       "      <td>42.145257</td>\n",
       "      <td>-83.208233</td>\n",
       "      <td>305.0</td>\n",
       "      <td>323.0</td>\n",
       "      <td>0</td>\n",
       "      <td>0</td>\n",
       "      <td>0</td>\n",
       "      <td>0</td>\n",
       "      <td>0</td>\n",
       "      <td>1</td>\n",
       "      <td>0</td>\n",
       "      <td>0</td>\n",
       "      <td>0</td>\n",
       "      <td>0</td>\n",
       "      <td>0</td>\n",
       "      <td>0</td>\n",
       "    </tr>\n",
       "    <tr>\n",
       "      <th>18738</th>\n",
       "      <td>855.0</td>\n",
       "      <td>0.0</td>\n",
       "      <td>42.433466</td>\n",
       "      <td>-83.023493</td>\n",
       "      <td>855.0</td>\n",
       "      <td>253.0</td>\n",
       "      <td>0</td>\n",
       "      <td>0</td>\n",
       "      <td>0</td>\n",
       "      <td>0</td>\n",
       "      <td>0</td>\n",
       "      <td>1</td>\n",
       "      <td>0</td>\n",
       "      <td>0</td>\n",
       "      <td>0</td>\n",
       "      <td>0</td>\n",
       "      <td>0</td>\n",
       "      <td>0</td>\n",
       "    </tr>\n",
       "    <tr>\n",
       "      <th>18735</th>\n",
       "      <td>140.0</td>\n",
       "      <td>0.0</td>\n",
       "      <td>42.388641</td>\n",
       "      <td>-83.037858</td>\n",
       "      <td>140.0</td>\n",
       "      <td>251.0</td>\n",
       "      <td>0</td>\n",
       "      <td>0</td>\n",
       "      <td>0</td>\n",
       "      <td>0</td>\n",
       "      <td>0</td>\n",
       "      <td>1</td>\n",
       "      <td>0</td>\n",
       "      <td>0</td>\n",
       "      <td>0</td>\n",
       "      <td>0</td>\n",
       "      <td>0</td>\n",
       "      <td>0</td>\n",
       "    </tr>\n",
       "  </tbody>\n",
       "</table>\n",
       "</div>"
      ],
      "text/plain": [
       "          judgment_amount compliance        lat        lon  \\\n",
       "ticket_id                                                    \n",
       "22056               305.0        0.0  42.390729 -83.124268   \n",
       "27586               855.0        1.0  42.326937 -83.135118   \n",
       "22046               305.0        0.0  42.145257 -83.208233   \n",
       "18738               855.0        0.0  42.433466 -83.023493   \n",
       "18735               140.0        0.0  42.388641 -83.037858   \n",
       "\n",
       "           Total_amount_to_pay  time_gap  \\\n",
       "ticket_id                                  \n",
       "22056                    305.0     369.0   \n",
       "27586                    855.0     378.0   \n",
       "22046                    305.0     323.0   \n",
       "18738                    855.0     253.0   \n",
       "18735                    140.0     251.0   \n",
       "\n",
       "           disposition_Not responsible by Determination  \\\n",
       "ticket_id                                                 \n",
       "22056                                                 0   \n",
       "27586                                                 0   \n",
       "22046                                                 0   \n",
       "18738                                                 0   \n",
       "18735                                                 0   \n",
       "\n",
       "           disposition_Not responsible by Dismissal  \\\n",
       "ticket_id                                             \n",
       "22056                                             0   \n",
       "27586                                             0   \n",
       "22046                                             0   \n",
       "18738                                             0   \n",
       "18735                                             0   \n",
       "\n",
       "           disposition_PENDING JUDGMENT  \\\n",
       "ticket_id                                 \n",
       "22056                                 0   \n",
       "27586                                 0   \n",
       "22046                                 0   \n",
       "18738                                 0   \n",
       "18735                                 0   \n",
       "\n",
       "           disposition_Responsible (Fine Waived) by Deter  \\\n",
       "ticket_id                                                   \n",
       "22056                                                   0   \n",
       "27586                                                   0   \n",
       "22046                                                   0   \n",
       "18738                                                   0   \n",
       "18735                                                   0   \n",
       "\n",
       "           disposition_Responsible by Admission  \\\n",
       "ticket_id                                         \n",
       "22056                                         0   \n",
       "27586                                         0   \n",
       "22046                                         0   \n",
       "18738                                         0   \n",
       "18735                                         0   \n",
       "\n",
       "           disposition_Responsible by Default  \\\n",
       "ticket_id                                       \n",
       "22056                                       1   \n",
       "27586                                       0   \n",
       "22046                                       1   \n",
       "18738                                       1   \n",
       "18735                                       1   \n",
       "\n",
       "           disposition_Responsible by Determination  \\\n",
       "ticket_id                                             \n",
       "22056                                             0   \n",
       "27586                                             1   \n",
       "22046                                             0   \n",
       "18738                                             0   \n",
       "18735                                             0   \n",
       "\n",
       "           disposition_SET-ASIDE (PENDING JUDGMENT)  \\\n",
       "ticket_id                                             \n",
       "22056                                             0   \n",
       "27586                                             0   \n",
       "22046                                             0   \n",
       "18738                                             0   \n",
       "18735                                             0   \n",
       "\n",
       "           agency_name_Department of Public Works  \\\n",
       "ticket_id                                           \n",
       "22056                                           0   \n",
       "27586                                           0   \n",
       "22046                                           0   \n",
       "18738                                           0   \n",
       "18735                                           0   \n",
       "\n",
       "           agency_name_Detroit Police Department  \\\n",
       "ticket_id                                          \n",
       "22056                                          0   \n",
       "27586                                          0   \n",
       "22046                                          0   \n",
       "18738                                          0   \n",
       "18735                                          0   \n",
       "\n",
       "           agency_name_Health Department  agency_name_Neighborhood City Halls  \n",
       "ticket_id                                                                      \n",
       "22056                                  0                                    0  \n",
       "27586                                  0                                    0  \n",
       "22046                                  0                                    0  \n",
       "18738                                  0                                    0  \n",
       "18735                                  0                                    0  "
      ]
     },
     "execution_count": 29,
     "metadata": {},
     "output_type": "execute_result"
    }
   ],
   "source": [
    "traindata.head()"
   ]
  },
  {
   "cell_type": "code",
   "execution_count": 30,
   "metadata": {},
   "outputs": [
    {
     "data": {
      "text/plain": [
       "Index(['judgment_amount', 'compliance', 'lat', 'lon', 'Total_amount_to_pay',\n",
       "       'time_gap', 'disposition_Not responsible by Determination',\n",
       "       'disposition_Not responsible by Dismissal',\n",
       "       'disposition_PENDING JUDGMENT',\n",
       "       'disposition_Responsible (Fine Waived) by Deter',\n",
       "       'disposition_Responsible by Admission',\n",
       "       'disposition_Responsible by Default',\n",
       "       'disposition_Responsible by Determination',\n",
       "       'disposition_SET-ASIDE (PENDING JUDGMENT)',\n",
       "       'agency_name_Department of Public Works',\n",
       "       'agency_name_Detroit Police Department',\n",
       "       'agency_name_Health Department', 'agency_name_Neighborhood City Halls'],\n",
       "      dtype='object')"
      ]
     },
     "execution_count": 30,
     "metadata": {},
     "output_type": "execute_result"
    }
   ],
   "source": [
    "traindata.columns\n"
   ]
  },
  {
   "cell_type": "code",
   "execution_count": 31,
   "metadata": {
    "collapsed": true
   },
   "outputs": [],
   "source": [
    "y = traindata['compliance']\n",
    "X = traindata.drop('compliance',axis = 1)"
   ]
  },
  {
   "cell_type": "markdown",
   "metadata": {},
   "source": [
    "Before submitting it to autograder let's test which model is actully better\n",
    "I am reducing dataset to around 50k (to increse speed) from training data (as we have correct values here)"
   ]
  },
  {
   "cell_type": "code",
   "execution_count": 32,
   "metadata": {
    "collapsed": true
   },
   "outputs": [],
   "source": [
    "from sklearn.model_selection import train_test_split\n",
    "X_train, X_test, y_train, y_test = train_test_split(X, y)"
   ]
  },
  {
   "cell_type": "code",
   "execution_count": 33,
   "metadata": {
    "collapsed": true
   },
   "outputs": [],
   "source": [
    "#just to test fast we are using very small dataset around 50K 1/5th of original\n",
    "X_train, X_test, y_train, y_test = train_test_split(X,y,test_size = 0.4)\n",
    "X_train, X_test, y_train, y_test = train_test_split(X_test,y_test)"
   ]
  },
  {
   "cell_type": "markdown",
   "metadata": {},
   "source": [
    "This is a the Base classifier any model shouldnot do worse than this"
   ]
  },
  {
   "cell_type": "code",
   "execution_count": 34,
   "metadata": {},
   "outputs": [
    {
     "data": {
      "text/plain": [
       "(0.92894671003252438, 0.92775831873905434, 0.5)"
      ]
     },
     "execution_count": 34,
     "metadata": {},
     "output_type": "execute_result"
    }
   ],
   "source": [
    "from sklearn.dummy import DummyClassifier\n",
    "from sklearn.metrics import roc_auc_score\n",
    "dummy_clf = DummyClassifier(strategy = 'most_frequent').fit(X_train,y_train)\n",
    "ypred = dummy_clf.predict(X_test)\n",
    "dummy_clf.score(X_test,y_test),dummy_clf.score(X_train,y_train),roc_auc_score(y_test,ypred)"
   ]
  },
  {
   "cell_type": "code",
   "execution_count": 35,
   "metadata": {},
   "outputs": [
    {
     "data": {
      "text/plain": [
       "(0.7226458332543062, 0.85776832624468347, 0.85639229422066554)"
      ]
     },
     "execution_count": 35,
     "metadata": {},
     "output_type": "execute_result"
    }
   ],
   "source": [
    "from sklearn.naive_bayes import GaussianNB\n",
    "\n",
    "nbclf = GaussianNB().fit(X_train, y_train)\n",
    "y_pred = nbclf.predict(X_test)\n",
    "\n",
    "roc_auc_score(y_test,y_pred),nbclf.score(X_test, y_test),(nbclf.score(X_train, y_train))"
   ]
  },
  {
   "cell_type": "markdown",
   "metadata": {
    "collapsed": true
   },
   "source": [
    "Now let's try other classifiers to choose the best one for actual dataset"
   ]
  },
  {
   "cell_type": "code",
   "execution_count": 36,
   "metadata": {},
   "outputs": [
    {
     "data": {
      "text/plain": [
       "(0.93201150863147364, 0.93163622717037775, 0.52685108089961807)"
      ]
     },
     "execution_count": 36,
     "metadata": {},
     "output_type": "execute_result"
    }
   ],
   "source": [
    "from sklearn.svm import SVC\n",
    "from sklearn.preprocessing import StandardScaler\n",
    "scaler = StandardScaler()\n",
    "\n",
    "X_train_scaled = scaler.fit_transform(X_train)\n",
    "X_test_scaled = scaler.transform(X_test)\n",
    "\n",
    "svm = SVC(random_state =0).fit(X_train_scaled,y_train)\n",
    "ypred = svm.predict(X_test_scaled)\n",
    "svm.score(X_test_scaled,y_test),svm.score(X_train_scaled,y_train),roc_auc_score(y_test,ypred)"
   ]
  },
  {
   "cell_type": "markdown",
   "metadata": {},
   "source": [
    "SVM takes a lot of time"
   ]
  },
  {
   "cell_type": "code",
   "execution_count": 37,
   "metadata": {},
   "outputs": [
    {
     "data": {
      "text/plain": [
       "(0.13832227086072413, 0.13379956028942919, 0.76902951255201557)"
      ]
     },
     "execution_count": 37,
     "metadata": {},
     "output_type": "execute_result"
    }
   ],
   "source": [
    "from sklearn.neural_network import MLPRegressor\n",
    "from sklearn.preprocessing import MinMaxScaler\n",
    "scaler = MinMaxScaler()\n",
    "\n",
    "X_train_scaled = scaler.fit_transform(X_train)\n",
    "X_test_scaled = scaler.transform(X_test)\n",
    "\n",
    "reg = MLPRegressor(hidden_layer_sizes=(20,20),random_state = 0).fit(X=X_train_scaled,y = y_train)\n",
    "ypred = reg.predict(X_test_scaled)\n",
    "reg.score(X_test_scaled,y_test),reg.score(X_train_scaled,y_train),roc_auc_score(y_test,ypred)"
   ]
  },
  {
   "cell_type": "code",
   "execution_count": 38,
   "metadata": {},
   "outputs": [
    {
     "data": {
      "text/plain": [
       "(0.139432619079358, 0.13842039385234217, 0.77176584198836973)"
      ]
     },
     "execution_count": 38,
     "metadata": {},
     "output_type": "execute_result"
    }
   ],
   "source": [
    "from sklearn.linear_model import LinearRegression\n",
    "linreg = LinearRegression().fit(X_train,y_train)\n",
    "ypred = linreg.predict(X_test)\n",
    "linreg.score(X_test,y_test),linreg.score(X_train,y_train),roc_auc_score(y_test,ypred)"
   ]
  },
  {
   "cell_type": "code",
   "execution_count": 39,
   "metadata": {},
   "outputs": [
    {
     "data": {
      "text/plain": [
       "(0.1753487994527938, 0.20402804659872675, 0.79495805207626047)"
      ]
     },
     "execution_count": 39,
     "metadata": {},
     "output_type": "execute_result"
    }
   ],
   "source": [
    "from sklearn.ensemble import RandomForestRegressor\n",
    "reg = RandomForestRegressor(max_depth = 6,random_state=0).fit(X_train, y_train)\n",
    "ypred = reg.predict(X_test)\n",
    "reg.score(X_test,y_test),reg.score(X_train,y_train),roc_auc_score(y_test,ypred)"
   ]
  },
  {
   "cell_type": "markdown",
   "metadata": {
    "collapsed": true
   },
   "source": [
    "So From above analysis ,we can use randomforest or GaussianNB for best results,any classifier except SVMs should work\n",
    "maybe svm requires more tuning or maybe more data.\n",
    "I will be using RandomForest for my actual submission"
   ]
  },
  {
   "cell_type": "markdown",
   "metadata": {
    "collapsed": true
   },
   "source": [
    "Actual code actually has slight modification due to grader issues,But concepts used are same\n",
    "Below code passes the grader with 100 points"
   ]
  },
  {
   "cell_type": "code",
   "execution_count": 40,
   "metadata": {},
   "outputs": [],
   "source": [
    "import pandas as pd\n",
    "import numpy as np\n",
    "\n",
    "def blight_model():\n",
    "    testdata = pd.read_csv('test.csv',encoding=\"cp1252\")\n",
    "    traindata = pd.read_csv('train.csv',encoding=\"cp1252\")\n",
    "    #drop if all are NaN\n",
    "\n",
    "    traindata = traindata.dropna(axis = 1,how  = 'all')\n",
    "    traindata = traindata.dropna(axis = 0,how  = 'all')\n",
    "    \n",
    "\n",
    "    \n",
    "#     #missing data handle\n",
    "#     ttlnull = traindata.isnull().sum().sort_values(ascending = False)\n",
    "#     per = (traindata.isnull().sum()/traindata.isnull().count()).sort_values(ascending = False)\n",
    "#     missing_data = pd.concat([ttlnull, per], axis=1, keys = ['Total', 'Percent'])\n",
    "#     #missing_data\n",
    "    \n",
    "#     traindata.drop(missing_data[missing_data['Percent']>0.5].index,axis = 1,inplace = True)\n",
    "#     traindata.drop(labels = 'clean_up_cost' ,axis = 1,inplace = True)  # as all values in this is zeroes\n",
    "    \n",
    "    #Do somethings about addresses\n",
    "    address = pd.read_csv('addresses.csv')\n",
    "    latlons = pd.read_csv('latlons.csv')\n",
    "    address = address.set_index('address').join(latlons.set_index('address'), how='left')\n",
    "    traindata = traindata.set_index('ticket_id').join(address.set_index('ticket_id'))\n",
    "    testdata =  testdata.set_index('ticket_id').join(address.set_index('ticket_id'))\n",
    "    \n",
    "    \n",
    "    list_to_remove = [ 'violator_name',\n",
    "       'violation_street_number', 'violation_street_name',\n",
    "       'mailing_address_str_number', 'mailing_address_str_name', 'city',\n",
    "       'state', 'zip_code', 'country','grafitti_status','non_us_str_code','violation_description',\n",
    "        'inspector_name','clean_up_cost','violation_code']\n",
    "    \n",
    "    list_rm_trn = ['collection_status','payment_date','payment_amount','payment_status',\n",
    "                   'balance_due','compliance_detail']\n",
    "    \n",
    "    traindata.drop(list_to_remove,axis = 1,inplace = True)\n",
    "    testdata.drop(list_to_remove,axis = 1,inplace = True)\n",
    "    traindata.drop(list_rm_trn,axis = 1,inplace = True)\n",
    "    testdata.drop('violation_zip_code',axis = 1,inplace = True)\n",
    "    \n",
    "    #reduce some features\n",
    "    traindata['Total_amount_to_pay'] = traindata['fine_amount']+ traindata['admin_fee']+traindata['state_fee']+traindata['late_fee']-traindata['discount_amount']\n",
    "    list_drop = ['fine_amount','admin_fee','state_fee','late_fee','discount_amount']\n",
    "    traindata.drop(list_drop,axis = 1,inplace = True)\n",
    "    \n",
    "    testdata['Total_amount_to_pay'] = testdata['fine_amount']+ testdata['admin_fee']+testdata['state_fee']+testdata['late_fee']-testdata['discount_amount']\n",
    "    testdata.drop(list_drop,axis = 1,inplace = True)\n",
    "    \n",
    "    #drop Nan Values while trainning\n",
    "    traindata.dropna(subset = ['lat','lon','Total_amount_to_pay'],inplace = True) \n",
    "    testdata['lat'].fillna(testdata.lat.mean(),inplace = True)\n",
    "    testdata['lon'].fillna(testdata.lon.mean(),inplace = True)\n",
    "    ######### testdata['lat','lon','Total_amount_to_pay'] =  testdata['lat','lon','Total_amount_to_pay'].fillna\n",
    "    \n",
    "    #use new feature time_gap instead of 2 dates\n",
    "    from datetime import date\n",
    "    traindata['hearing_date'] = pd.to_datetime(traindata['hearing_date'])\n",
    "    traindata['ticket_issued_date'] = pd.to_datetime(traindata['ticket_issued_date'])\n",
    "    testdata['hearing_date'] = pd.to_datetime(testdata['hearing_date'])\n",
    "    testdata['ticket_issued_date'] = pd.to_datetime(testdata['ticket_issued_date'])\n",
    "    \n",
    "    traindata['hearing_date'].fillna(method = 'pad',inplace = True)\n",
    "    traindata['ticket_issued_date'].fillna(method = 'pad',inplace = True)\n",
    "    testdata['hearing_date'].fillna(method = 'pad',inplace = True)\n",
    "    testdata['ticket_issued_date'].fillna(method = 'pad',inplace = True)\n",
    "    \n",
    "    traindata['time_gap'] = traindata['hearing_date'].subtract(traindata['ticket_issued_date'])\n",
    "    traindata['time_gap'] = traindata['time_gap'].dt.days\n",
    "    traindata['time_gap'].fillna(73,inplace = True)\n",
    "    traindata.drop(['hearing_date','ticket_issued_date'],axis = 1,inplace = True)\n",
    "    \n",
    "    testdata['time_gap'] = testdata['hearing_date'].subtract(testdata['ticket_issued_date'])\n",
    "    testdata['time_gap'] = testdata['time_gap'].dt.days\n",
    "    testdata['time_gap'].fillna(73,inplace = True)\n",
    "    testdata.drop(['hearing_date','ticket_issued_date'],axis = 1,inplace = True)\n",
    "    \n",
    "    # reduce memory usage by casting\n",
    "    for i in range(len(traindata.columns)):\n",
    "        if len(traindata[traindata.columns[i]].unique()) < 250:\n",
    "            traindata[traindata.columns[i]] = traindata[traindata.columns[i]] .astype('category')\n",
    "\n",
    "    #using categorial string as features\n",
    "    string_features = ['disposition','agency_name']\n",
    "    traindata =  pd.get_dummies(traindata,columns = string_features,drop_first = True)\n",
    "    testdata =  pd.get_dummies(testdata,columns = string_features,drop_first = True)\n",
    "\n",
    "    #For training take good values only\n",
    "    traindata = traindata[(traindata['compliance'] == 0) | (traindata['compliance'] == 1)]\n",
    "    \n",
    "    \n",
    "    y_train = traindata['compliance']\n",
    "    X_train = traindata.drop('compliance',axis = 1)\n",
    "    X_test = testdata\n",
    "    \n",
    "    train_features = X_train\n",
    "    train_features_set = set(train_features)\n",
    "    \n",
    "    for feature in set(train_features):\n",
    "        if feature not in testdata:\n",
    "            train_features_set.remove(feature)\n",
    "    train_features = list(train_features_set)\n",
    "    \n",
    "    X_train = X_train[train_features]\n",
    "    X_test =  X_test[train_features]\n",
    "    \n",
    "    from sklearn.ensemble import RandomForestRegressor\n",
    "    reg = RandomForestRegressor(max_depth = 6).fit(X_train, y_train)\n",
    "    y_pred = reg.predict(X_test)\n",
    "\n",
    "    test_df = pd.read_csv('test.csv', encoding = \"ISO-8859-1\")\n",
    "    test_df['compliance'] = y_pred\n",
    "    test_df.set_index('ticket_id', inplace=True)\n",
    "    \n",
    "    \n",
    "    return test_df.compliance"
   ]
  },
  {
   "cell_type": "code",
   "execution_count": 41,
   "metadata": {},
   "outputs": [
    {
     "name": "stderr",
     "output_type": "stream",
     "text": [
      "c:\\program files\\python35\\lib\\site-packages\\IPython\\core\\interactiveshell.py:2808: DtypeWarning: Columns (11,12,31) have mixed types. Specify dtype option on import or set low_memory=False.\n",
      "  if self.run_code(code, result):\n"
     ]
    },
    {
     "data": {
      "text/plain": [
       "ticket_id\n",
       "284932    0.060068\n",
       "285362    0.012516\n",
       "285361    0.067258\n",
       "285338    0.077760\n",
       "285346    0.082422\n",
       "285345    0.077760\n",
       "285347    0.082422\n",
       "285342    0.454940\n",
       "285530    0.033876\n",
       "284989    0.024854\n",
       "285344    0.082422\n",
       "285343    0.027466\n",
       "285340    0.027466\n",
       "285341    0.082422\n",
       "285349    0.082422\n",
       "285348    0.077760\n",
       "284991    0.024854\n",
       "285532    0.034823\n",
       "285406    0.019184\n",
       "285001    0.053731\n",
       "285006    0.052784\n",
       "285405    0.012516\n",
       "285337    0.020096\n",
       "285496    0.067258\n",
       "285497    0.062595\n",
       "285378    0.012516\n",
       "285589    0.019184\n",
       "285585    0.062595\n",
       "285501    0.067258\n",
       "285581    0.012516\n",
       "            ...   \n",
       "376367    0.019184\n",
       "376366    0.030526\n",
       "376362    0.215380\n",
       "376363    0.454940\n",
       "376365    0.019184\n",
       "376364    0.030526\n",
       "376228    0.035194\n",
       "376265    0.034016\n",
       "376286    0.109097\n",
       "376320    0.031704\n",
       "376314    0.031704\n",
       "376327    0.273646\n",
       "376385    0.273646\n",
       "376435    0.331466\n",
       "376370    0.454940\n",
       "376434    0.067258\n",
       "376459    0.067258\n",
       "376478    0.012775\n",
       "376473    0.035194\n",
       "376484    0.023522\n",
       "376482    0.021267\n",
       "376480    0.021267\n",
       "376479    0.021267\n",
       "376481    0.021267\n",
       "376483    0.037226\n",
       "376496    0.012516\n",
       "376497    0.012516\n",
       "376499    0.067258\n",
       "376500    0.067258\n",
       "369851    0.420329\n",
       "Name: compliance, Length: 61001, dtype: float64"
      ]
     },
     "execution_count": 41,
     "metadata": {},
     "output_type": "execute_result"
    }
   ],
   "source": [
    "blight_model()"
   ]
  },
  {
   "cell_type": "markdown",
   "metadata": {
    "collapsed": true
   },
   "source": [
    "I have GuassionNB too for submission,It also gives full marks i.e AUC score of more than 75%\n",
    "\n",
    "Some steps of tuning for some model isn't showned in this Notebook but they are very important,like Neural Networks without scaling was giving AUC score of around 0.53 only \n",
    "\n",
    "Models can be made more efficient too but This passes the test so I didn't try "
   ]
  },
  {
   "cell_type": "code",
   "execution_count": null,
   "metadata": {
    "collapsed": true
   },
   "outputs": [],
   "source": []
  },
  {
   "cell_type": "code",
   "execution_count": null,
   "metadata": {
    "collapsed": true
   },
   "outputs": [],
   "source": []
  },
  {
   "cell_type": "code",
   "execution_count": null,
   "metadata": {
    "collapsed": true
   },
   "outputs": [],
   "source": []
  },
  {
   "cell_type": "code",
   "execution_count": null,
   "metadata": {
    "collapsed": true
   },
   "outputs": [],
   "source": []
  },
  {
   "cell_type": "code",
   "execution_count": null,
   "metadata": {
    "collapsed": true
   },
   "outputs": [],
   "source": []
  },
  {
   "cell_type": "code",
   "execution_count": null,
   "metadata": {
    "collapsed": true
   },
   "outputs": [],
   "source": []
  },
  {
   "cell_type": "code",
   "execution_count": null,
   "metadata": {
    "collapsed": true
   },
   "outputs": [],
   "source": []
  },
  {
   "cell_type": "code",
   "execution_count": null,
   "metadata": {
    "collapsed": true
   },
   "outputs": [],
   "source": []
  },
  {
   "cell_type": "code",
   "execution_count": null,
   "metadata": {
    "collapsed": true
   },
   "outputs": [],
   "source": []
  },
  {
   "cell_type": "code",
   "execution_count": null,
   "metadata": {
    "collapsed": true
   },
   "outputs": [],
   "source": []
  },
  {
   "cell_type": "code",
   "execution_count": null,
   "metadata": {
    "collapsed": true
   },
   "outputs": [],
   "source": []
  },
  {
   "cell_type": "code",
   "execution_count": null,
   "metadata": {
    "collapsed": true
   },
   "outputs": [],
   "source": []
  },
  {
   "cell_type": "code",
   "execution_count": null,
   "metadata": {
    "collapsed": true
   },
   "outputs": [],
   "source": []
  },
  {
   "cell_type": "code",
   "execution_count": null,
   "metadata": {
    "collapsed": true
   },
   "outputs": [],
   "source": []
  },
  {
   "cell_type": "code",
   "execution_count": null,
   "metadata": {
    "collapsed": true
   },
   "outputs": [],
   "source": []
  },
  {
   "cell_type": "code",
   "execution_count": null,
   "metadata": {
    "collapsed": true
   },
   "outputs": [],
   "source": []
  },
  {
   "cell_type": "code",
   "execution_count": null,
   "metadata": {
    "collapsed": true
   },
   "outputs": [],
   "source": []
  },
  {
   "cell_type": "code",
   "execution_count": null,
   "metadata": {
    "collapsed": true
   },
   "outputs": [],
   "source": []
  },
  {
   "cell_type": "code",
   "execution_count": null,
   "metadata": {
    "collapsed": true
   },
   "outputs": [],
   "source": []
  },
  {
   "cell_type": "code",
   "execution_count": null,
   "metadata": {
    "collapsed": true
   },
   "outputs": [],
   "source": []
  },
  {
   "cell_type": "code",
   "execution_count": null,
   "metadata": {
    "collapsed": true
   },
   "outputs": [],
   "source": []
  },
  {
   "cell_type": "code",
   "execution_count": null,
   "metadata": {
    "collapsed": true
   },
   "outputs": [],
   "source": []
  },
  {
   "cell_type": "code",
   "execution_count": null,
   "metadata": {
    "collapsed": true
   },
   "outputs": [],
   "source": []
  },
  {
   "cell_type": "code",
   "execution_count": null,
   "metadata": {
    "collapsed": true
   },
   "outputs": [],
   "source": []
  },
  {
   "cell_type": "code",
   "execution_count": null,
   "metadata": {
    "collapsed": true
   },
   "outputs": [],
   "source": []
  },
  {
   "cell_type": "code",
   "execution_count": null,
   "metadata": {
    "collapsed": true
   },
   "outputs": [],
   "source": []
  }
 ],
 "metadata": {
  "coursera": {
   "course_slug": "python-machine-learning",
   "graded_item_id": "nNS8l",
   "launcher_item_id": "yWWk7",
   "part_id": "w8BSS"
  },
  "kernelspec": {
   "display_name": "Python 3",
   "language": "python",
   "name": "python3"
  },
  "language_info": {
   "codemirror_mode": {
    "name": "ipython",
    "version": 3
   },
   "file_extension": ".py",
   "mimetype": "text/x-python",
   "name": "python",
   "nbconvert_exporter": "python",
   "pygments_lexer": "ipython3",
   "version": "3.5.2"
  }
 },
 "nbformat": 4,
 "nbformat_minor": 2
}
